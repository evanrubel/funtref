{
 "cells": [
  {
   "cell_type": "code",
   "execution_count": 1,
   "metadata": {},
   "outputs": [
    {
     "ename": "ModuleNotFoundError",
     "evalue": "No module named 'trefide.pmd'",
     "output_type": "error",
     "traceback": [
      "\u001B[0;31m---------------------------------------------------------------------------\u001B[0m",
      "\u001B[0;31mModuleNotFoundError\u001B[0m                       Traceback (most recent call last)",
      "\u001B[0;32m<ipython-input-1-cfc1010ca819>\u001B[0m in \u001B[0;36m<module>\u001B[0;34m\u001B[0m\n\u001B[1;32m      5\u001B[0m \u001B[0;34m\u001B[0m\u001B[0m\n\u001B[1;32m      6\u001B[0m \u001B[0;31m# Denoising dependencies\u001B[0m\u001B[0;34m\u001B[0m\u001B[0;34m\u001B[0m\u001B[0;34m\u001B[0m\u001B[0m\n\u001B[0;32m----> 7\u001B[0;31m \u001B[0;32mfrom\u001B[0m \u001B[0mtrefide\u001B[0m\u001B[0;34m.\u001B[0m\u001B[0mpmd\u001B[0m \u001B[0;32mimport\u001B[0m \u001B[0mbatch_decompose\u001B[0m\u001B[0;34m,\u001B[0m\u001B[0;31m\\\u001B[0m\u001B[0;34m\u001B[0m\u001B[0;34m\u001B[0m\u001B[0m\n\u001B[0m\u001B[1;32m      8\u001B[0m                         \u001B[0mbatch_recompose\u001B[0m\u001B[0;34m,\u001B[0m\u001B[0;31m\\\u001B[0m\u001B[0;34m\u001B[0m\u001B[0;34m\u001B[0m\u001B[0m\n\u001B[1;32m      9\u001B[0m                         \u001B[0moverlapping_batch_decompose\u001B[0m\u001B[0;34m,\u001B[0m\u001B[0;31m\\\u001B[0m\u001B[0;34m\u001B[0m\u001B[0;34m\u001B[0m\u001B[0m\n",
      "\u001B[0;31mModuleNotFoundError\u001B[0m: No module named 'trefide.pmd'"
     ]
    }
   ],
   "source": [
    "# General Dependencies\n",
    "import os\n",
    "import numpy as np\n",
    "\n",
    "\n",
    "# Denoising dependencies\n",
    "from trefide.pmd import batch_decompose,\\\n",
    "                        batch_recompose,\\\n",
    "                        overlapping_batch_decompose,\\\n",
    "                        overlapping_batch_recompose,\\\n",
    "                        determine_thresholds\n",
    "\n",
    "\n",
    "from trefide.reformat import overlapping_component_reformat\n",
    "\n",
    "# Plotting & Video Rendering Dependencies\n",
    "import funimag\n",
    "\n",
    "import matplotlib.pyplot as plt\n",
    "from trefide.plot import pixelwise_ranks\n",
    "from trefide.video import play_cv2\n",
    "\n",
    "# Set Demo Dataset Location\n",
    "ext = os.path.join(\"..\", \"example_movies\")\n",
    "filename = os.path.join(ext, \"demoMovie.tif\")\n",
    "\n",
    "%load_ext autoreload\n",
    "%autoreload 2"
   ]
  },
  {
   "cell_type": "markdown",
   "metadata": {},
   "source": [
    "# Load Data"
   ]
  },
  {
   "cell_type": "code",
   "execution_count": null,
   "metadata": {},
   "outputs": [],
   "source": [
    "from skimage import io\n",
    "mov = io.imread(filename).transpose([1,2,0])[:60,:60,:]\n",
    "mov = np.asarray(mov,order='C',dtype=np.float64)\n",
    "print(mov.shape)\n",
    "\n",
    "fov_height, fov_width, num_frames = mov.shape"
   ]
  },
  {
   "cell_type": "markdown",
   "metadata": {},
   "source": [
    "# Set Params"
   ]
  },
  {
   "cell_type": "code",
   "execution_count": null,
   "metadata": {},
   "outputs": [],
   "source": [
    "# Maximum of rank 50 blocks (safeguard to terminate early if this is hit)\n",
    "max_components = 50\n",
    "\n",
    "# Enable Decimation \n",
    "max_iters_main = 10\n",
    "max_iters_init = 40\n",
    "d_sub=2\n",
    "t_sub=2\n",
    "\n",
    "# Defaults\n",
    "consec_failures = 3\n",
    "tol = 0.0005\n",
    "\n",
    "# Set Blocksize Parameters\n",
    "block_height = 20\n",
    "block_width = 20\n",
    "overlapping = True"
   ]
  },
  {
   "cell_type": "markdown",
   "metadata": {},
   "source": [
    "# Compress Video"
   ]
  },
  {
   "cell_type": "markdown",
   "metadata": {},
   "source": [
    "## Simulate Critical Region with Noise"
   ]
  },
  {
   "cell_type": "code",
   "execution_count": null,
   "metadata": {},
   "outputs": [],
   "source": [
    "spatial_thresh, temporal_thresh = determine_thresholds((fov_height, fov_width, num_frames),\n",
    "                                                       (block_height, block_width),\n",
    "                                                       consec_failures, max_iters_main, \n",
    "                                                       max_iters_init, tol, \n",
    "                                                       d_sub, t_sub, 5, True)"
   ]
  },
  {
   "cell_type": "markdown",
   "metadata": {},
   "source": [
    "## Decompose Each Block Into Spatial & Temporal Components"
   ]
  },
  {
   "cell_type": "code",
   "execution_count": null,
   "metadata": {},
   "outputs": [],
   "source": [
    "# Blockwise Parallel, Single Tiling\n",
    "if not overlapping:    \n",
    "    spatial_components,\\\n",
    "    temporal_components,\\\n",
    "    block_ranks,\\\n",
    "    block_indices = batch_decompose(fov_height, fov_width, num_frames,\n",
    "                                    mov, block_height, block_width,\n",
    "                                    max_components, consec_failures,\n",
    "                                    max_iters_main, max_iters_init, tol,\n",
    "                                    d_sub=d_sub, t_sub=t_sub)\n",
    "    \n",
    " # Blockwise Parallel, 4x Overlapping Tiling\n",
    "else:   \n",
    "    spatial_components,\\\n",
    "    temporal_components,\\\n",
    "    block_ranks,\\\n",
    "    block_indices,\\\n",
    "    block_weights = overlapping_batch_decompose(fov_height, fov_width, num_frames,\n",
    "                                                mov, block_height, block_width,\n",
    "                                                spatial_thresh, temporal_thresh,\n",
    "                                                max_components, consec_failures,\n",
    "                                                max_iters_main, max_iters_init, tol,\n",
    "                                                d_sub=d_sub, t_sub=t_sub)"
   ]
  },
  {
   "cell_type": "markdown",
   "metadata": {},
   "source": [
    "# Reconstruct Denoised Video"
   ]
  },
  {
   "cell_type": "code",
   "execution_count": null,
   "metadata": {},
   "outputs": [],
   "source": [
    "# Single Tiling (No need for reqweighting)\n",
    "if not overlapping: \n",
    "    mov_denoised = np.asarray(batch_recompose(spatial_components,\n",
    "                                              temporal_components,\n",
    "                                              block_ranks,\n",
    "                                              block_indices))\n",
    "# Overlapping Tilings With Reweighting\n",
    "else:  \n",
    "    mov_denoised = np.asarray(overlapping_batch_recompose(fov_height, fov_width, num_frames,\n",
    "                                                          block_height, block_width,\n",
    "                                                          spatial_components,\n",
    "                                                          temporal_components,\n",
    "                                                          block_ranks,\n",
    "                                                          block_indices,\n",
    "                                                          block_weights)) "
   ]
  },
  {
   "cell_type": "markdown",
   "metadata": {},
   "source": [
    "# Produce Diagnostics"
   ]
  },
  {
   "cell_type": "markdown",
   "metadata": {},
   "source": [
    "### Single Tiling Pixel-Wise Ranks"
   ]
  },
  {
   "cell_type": "code",
   "execution_count": null,
   "metadata": {},
   "outputs": [],
   "source": [
    "if overlapping:\n",
    "    pixelwise_ranks(block_ranks['no_skew']['full'], fov_height, fov_width, num_frames, block_height, block_width)\n",
    "else:\n",
    "    pixelwise_ranks(block_ranks, fov_height, fov_width, num_frames, block_height, block_width)"
   ]
  },
  {
   "cell_type": "markdown",
   "metadata": {},
   "source": [
    "### Correlation Images"
   ]
  },
  {
   "cell_type": "code",
   "execution_count": null,
   "metadata": {},
   "outputs": [],
   "source": [
    "from funimag.plots import util_plot"
   ]
  },
  {
   "cell_type": "code",
   "execution_count": null,
   "metadata": {},
   "outputs": [],
   "source": [
    "util_plot.comparison_plot([mov, mov_denoised + np.random.randn(np.prod(mov.shape)).reshape(mov.shape)*.01],\n",
    "                plot_orientation=\"vertical\")"
   ]
  },
  {
   "cell_type": "markdown",
   "metadata": {},
   "source": [
    "## Render Videos & Residual"
   ]
  },
  {
   "cell_type": "code",
   "execution_count": null,
   "metadata": {},
   "outputs": [],
   "source": [
    "# play_cv2(np.vstack([mov, mov_denoised, mov-mov_denoised]), magnification=2, jupyter=True)"
   ]
  },
  {
   "cell_type": "markdown",
   "metadata": {},
   "source": [
    "# Save Results"
   ]
  },
  {
   "cell_type": "code",
   "execution_count": null,
   "metadata": {},
   "outputs": [],
   "source": [
    "U, V = overlapping_component_reformat(fov_height, fov_width, num_frames,\n",
    "                                      block_height, block_width,\n",
    "                                      spatial_components,\n",
    "                                      temporal_components,\n",
    "                                      block_ranks,\n",
    "                                      block_indices,\n",
    "                                      block_weights)"
   ]
  },
  {
   "cell_type": "code",
   "execution_count": null,
   "metadata": {},
   "outputs": [],
   "source": [
    "np.savez(os.path.join(ext, \"demo_results.npz\"), U, V, mov_denoised, block_ranks, block_height, block_width)"
   ]
  },
  {
   "cell_type": "code",
   "execution_count": null,
   "metadata": {},
   "outputs": [],
   "source": []
  }
 ],
 "metadata": {
  "kernelspec": {
   "display_name": "Python 3",
   "language": "python",
   "name": "python3"
  },
  "language_info": {
   "codemirror_mode": {
    "name": "ipython",
    "version": 3
   },
   "file_extension": ".py",
   "mimetype": "text/x-python",
   "name": "python",
   "nbconvert_exporter": "python",
   "pygments_lexer": "ipython3",
   "version": "3.6.5"
  },
  "widgets": {
   "state": {},
   "version": "1.1.2"
  }
 },
 "nbformat": 4,
 "nbformat_minor": 2
}