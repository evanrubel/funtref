{
 "cells": [
  {
   "cell_type": "code",
   "execution_count": 1,
   "metadata": {},
   "outputs": [],
   "source": [
    "import numpy as np\n",
    "import cv2"
   ]
  },
  {
   "cell_type": "code",
   "execution_count": 2,
   "metadata": {},
   "outputs": [],
   "source": [
    "def play_3d(movie, \n",
    "            gain=3, \n",
    "            fr=60, \n",
    "            offset=0, \n",
    "            magnification=1, \n",
    "            repeat=False):\n",
    "    \"\"\" Render Video With OpenCV3 Library's Imshow\"\"\"\n",
    "    d1, d2, nchan, T = movie.shape\n",
    "    maxmov = np.max(movie)\n",
    "    looping=True\n",
    "    terminated=False\n",
    "    while looping:\n",
    "        for t in range(T):\n",
    "            if magnification != 1:\n",
    "                frame = cv2.resize(np.reshape(movie[:,:,:,t], (d1, -1), order='F'),\n",
    "                                   None,\n",
    "                                   fx=magnification,\n",
    "                                   fy=magnification,\n",
    "                                   interpolation=cv2.INTER_LINEAR)\n",
    "            else:\n",
    "                frame = np.reshape(movie[:,:,:,t], (d1, -1), order='F')\n",
    "            cv2.imshow('frame', (frame - offset) / maxmov*gain)\n",
    "            if cv2.waitKey(int(1. / fr * 1000)) & 0xFF == ord('q'):\n",
    "                looping = False\n",
    "                terminated = True\n",
    "                break\n",
    "        if terminated:\n",
    "            break\n",
    "        looping=repeat\n",
    "\n",
    "    cv2.waitKey(100)\n",
    "    cv2.destroyAllWindows()\n",
    "    for i in range(10):\n",
    "        cv2.waitKey(100)"
   ]
  },
  {
   "cell_type": "code",
   "execution_count": 17,
   "metadata": {},
   "outputs": [],
   "source": [
    "Y_f = np.load('/home/ian/Downloads/data_for_ding_apr17_denoised_notv.npz')['Y_original']\n",
    "Y_denf = np.load('/home/ian/Downloads/data_for_ding_apr17_denoised_notv.npz')['Y_denoised']"
   ]
  },
  {
   "cell_type": "code",
   "execution_count": 18,
   "metadata": {},
   "outputs": [],
   "source": [
    "Y_r = Y_f - Y_denf"
   ]
  },
  {
   "cell_type": "code",
   "execution_count": 19,
   "metadata": {},
   "outputs": [],
   "source": [
    "tmp = np.vstack([Y_f, Y_denf, Y_r])"
   ]
  },
  {
   "cell_type": "code",
   "execution_count": 31,
   "metadata": {},
   "outputs": [],
   "source": [
    "play_3d(tmp, magnification=3, gain=1.25, fr=120)"
   ]
  },
  {
   "cell_type": "code",
   "execution_count": 22,
   "metadata": {},
   "outputs": [],
   "source": [
    "min_img = np.min(tmp, axis=-1)"
   ]
  },
  {
   "cell_type": "code",
   "execution_count": 23,
   "metadata": {},
   "outputs": [],
   "source": [
    "tmp = tmp -min_img[:,:,:,None]"
   ]
  },
  {
   "cell_type": "code",
   "execution_count": 24,
   "metadata": {},
   "outputs": [],
   "source": [
    "maxes = [tmp[:56].max(), tmp[56:112].max(), tmp[112:].max()]"
   ]
  },
  {
   "cell_type": "code",
   "execution_count": 25,
   "metadata": {},
   "outputs": [],
   "source": [
    "tmp[:56] = tmp[:56] / tmp[:56].max()\n",
    "tmp[56:112] = tmp[56:112] / tmp[56:112].max()\n",
    "tmp[112:] = tmp[112:] / tmp[112:].max()"
   ]
  },
  {
   "cell_type": "code",
   "execution_count": 26,
   "metadata": {},
   "outputs": [
    {
     "data": {
      "text/plain": [
       "[40.22912210483648, 38.47433268329286, 22.586614674277627]"
      ]
     },
     "execution_count": 26,
     "metadata": {},
     "output_type": "execute_result"
    }
   ],
   "source": [
    "maxes"
   ]
  },
  {
   "cell_type": "code",
   "execution_count": null,
   "metadata": {},
   "outputs": [],
   "source": []
  }
 ],
 "metadata": {
  "kernelspec": {
   "display_name": "Python 3",
   "language": "python",
   "name": "python3"
  },
  "language_info": {
   "codemirror_mode": {
    "name": "ipython",
    "version": 3
   },
   "file_extension": ".py",
   "mimetype": "text/x-python",
   "name": "python",
   "nbconvert_exporter": "python",
   "pygments_lexer": "ipython3",
   "version": "3.6.5"
  }
 },
 "nbformat": 4,
 "nbformat_minor": 2
}
